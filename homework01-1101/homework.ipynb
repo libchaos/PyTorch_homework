{
 "cells": [
  {
   "cell_type": "code",
   "execution_count": 1,
   "metadata": {
    "collapsed": false
   },
   "outputs": [],
   "source": [
    "import torch\n",
    "from torch.autograd import Variable\n",
    "import torch.nn as nn\n",
    "import torch.optim as optim\n",
    "\n",
    "import numpy as np\n",
    "import matplotlib.pyplot as plt\n",
    "import matplotlib\n",
    "\n",
    "from sklearn.decomposition import PCA\n",
    "\n",
    "import gensim\n",
    "from gensim.models import Word2Vec\n",
    "from gensim.models.keyedvectors import KeyedVectors\n",
    "from gensim.models.word2vec import LineSentence\n",
    "\n",
    "import re\n",
    "\n",
    "%matplotlib inline"
   ]
  },
  {
   "cell_type": "code",
   "execution_count": 2,
   "metadata": {
    "collapsed": false
   },
   "outputs": [],
   "source": [
    "word_vectors = KeyedVectors.load_word2vec_format('../../vectors.bin', binary=True, unicode_errors='ignore')"
   ]
  },
  {
   "cell_type": "code",
   "execution_count": 3,
   "metadata": {
    "collapsed": false
   },
   "outputs": [
    {
     "data": {
      "text/plain": [
       "1366130"
      ]
     },
     "execution_count": 3,
     "metadata": {},
     "output_type": "execute_result"
    }
   ],
   "source": [
    "len(word_vectors.vocab)"
   ]
  },
  {
   "cell_type": "code",
   "execution_count": 4,
   "metadata": {
    "collapsed": false
   },
   "outputs": [
    {
     "name": "stdout",
     "output_type": "stream",
     "text": [
      "400000\n"
     ]
    }
   ],
   "source": [
    "f = open('../../glove.6B.100d.txt', 'r')\n",
    "i = 1\n",
    "\n",
    "word_vectors_en = {}\n",
    "with open('../../glove.6B.300d.txt') as f:\n",
    "    for line in f:\n",
    "        numbers = line.split()\n",
    "        word = numbers[0]\n",
    "        vectors = np.array([float(i) for i in numbers[1:]])\n",
    "        word_vectors_en[word] = vectors\n",
    "        i += 1\n",
    "print(len(word_vectors_en))"
   ]
  },
  {
   "cell_type": "code",
   "execution_count": 38,
   "metadata": {
    "collapsed": false
   },
   "outputs": [],
   "source": [
    "en_list = {'horse','whale','monkey','sheep','donkey','donkey','jenny','cattle','mule'}\n",
    "\n",
    "# en_list = {'1', '2', '3', '4', '5', '6', '7', '8', '9', '0'}\n",
    "\n",
    "cn_list = {'马', '鲸', '猴', '绵羊', '驴', '驴', '驴', '牛', '马骡'}\n",
    "\n",
    "# 对应词向量都存入到列表中\n",
    "cn_vectors = []  #中文的词向量列表\n",
    "en_vectors = []  #英文的词向量列表\n",
    "for w in cn_list:\n",
    "   cn_vectors.append(word_vectors[w])\n",
    "for w in en_list:\n",
    "   en_vectors.append(word_vectors_en[w])\n",
    "\n",
    "# 将这些词向量统一转化为矩阵\n",
    "cn_vectors = np.array(cn_vectors)\n",
    "en_vectors = np.array(en_vectors)"
   ]
  },
  {
   "cell_type": "code",
   "execution_count": 39,
   "metadata": {
    "collapsed": false
   },
   "outputs": [
    {
     "data": {
      "image/png": "[encoded data removed]",
      "text/plain": [
       "<matplotlib.figure.Figure at 0x1811c0908>"
      ]
     },
     "metadata": {},
     "output_type": "display_data"
    }
   ],
   "source": [
    "# 降维实现可视化\n",
    "X_reduced = PCA(n_components=2).fit_transform(cn_vectors)\n",
    "Y_reduced = PCA(n_components = 2).fit_transform(en_vectors)\n",
    "\n",
    "# 绘制所有单词向量的二维空间投影\n",
    "f, (ax1, ax2) = plt.subplots(1, 2, figsize = (10, 8))\n",
    "ax1.plot(X_reduced[:, 0], X_reduced[:, 1], 'o')\n",
    "ax2.plot(Y_reduced[:, 0], Y_reduced[:, 1], 'o')\n",
    "zhfont1 = matplotlib.font_manager.FontProperties(fname='/Library/Fonts/华文仿宋.ttf', size=16)\n",
    "for i, w in enumerate(cn_list):\n",
    "   ax1.text(X_reduced[i, 0], X_reduced[i, 1], w, fontproperties = zhfont1, alpha = 1)\n",
    "for i, w in enumerate(en_list):\n",
    "   ax2.text(Y_reduced[i, 0], Y_reduced[i, 1], w, alpha = 1)"
   ]
  },
  {
   "cell_type": "markdown",
   "metadata": {},
   "source": [
    "# 训练一个神经网络, 输入一个英文单词的词向量, 输出一个中文的词向量, 并翻译为中文"
   ]
  },
  {
   "cell_type": "code",
   "execution_count": 7,
   "metadata": {
    "collapsed": false
   },
   "outputs": [
    {
     "name": "stdout",
     "output_type": "stream",
     "text": [
      "4962\n"
     ]
    }
   ],
   "source": [
    "original_words = []\n",
    "with open('../../dictionary.txt', 'r') as f:\n",
    "    dataset = []\n",
    "    for line in f:\n",
    "        itm = line.split('\\t')\n",
    "        eng = itm[0]\n",
    "        chn = itm[1].strip()\n",
    "        if eng in word_vectors_en and chn in word_vectors:\n",
    "            data = word_vectors_en[eng]\n",
    "            target = word_vectors[chn]\n",
    "            dataset.append([data, target])\n",
    "            original_words.append([eng, chn])\n",
    "print(len(dataset))"
   ]
  },
  {
   "cell_type": "code",
   "execution_count": 8,
   "metadata": {
    "collapsed": true
   },
   "outputs": [],
   "source": [
    "# 建立训练集、测试集和校验集\n",
    "# 训练集用来训练神经网络，更改网络的参数；校验集用来判断网络模型是否过拟合：当校验集的损失数值超过训练集的时候，即为过拟合\n",
    "# 测试集用来检验模型的好坏\n",
    "indx = np.random.permutation(range(len(dataset)))\n",
    "dataset = [dataset[i] for i in indx]\n",
    "original_words = [original_words[i] for i in indx]\n",
    "train_size = 500\n",
    "train_data = dataset[train_size:]\n",
    "valid_data = dataset[train_size // 2 : train_size]\n",
    "test_data = dataset[: train_size // 2]\n",
    "test_words = original_words[: train_size // 2]"
   ]
  },
  {
   "cell_type": "code",
   "execution_count": 9,
   "metadata": {
    "collapsed": false
   },
   "outputs": [],
   "source": [
    "# 开始训练一个多层神经网络，将一个100维度的英文向量映射为200维度的中文词向量，隐含层节点为30\n",
    "\n",
    "input_size = 300\n",
    "output_size = 200\n",
    "hidden_size = 30\n",
    "model = nn.Sequential(nn.Linear(input_size, hidden_size),\n",
    "                    nn.Tanh(),\n",
    "                    nn.Linear(hidden_size, output_size)\n",
    "                    )\n",
    "\n",
    "criterion = torch.nn.MSELoss()\n",
    "optimizer = torch.optim.Adam(model.parameters(), lr = 0.0001)\n",
    "num_epoch = 100"
   ]
  },
  {
   "cell_type": "code",
   "execution_count": 10,
   "metadata": {
    "collapsed": false
   },
   "outputs": [
    {
     "name": "stdout",
     "output_type": "stream",
     "text": [
      "0轮，训练Loss: 8.70, 校验Loss: 8.30\n",
      "1轮，训练Loss: 8.23, 校验Loss: 7.98\n",
      "2轮，训练Loss: 7.98, 校验Loss: 7.79\n",
      "3轮，训练Loss: 7.82, 校验Loss: 7.67\n",
      "4轮，训练Loss: 7.70, 校验Loss: 7.58\n",
      "5轮，训练Loss: 7.61, 校验Loss: 7.52\n",
      "6轮，训练Loss: 7.54, 校验Loss: 7.46\n",
      "7轮，训练Loss: 7.48, 校验Loss: 7.42\n",
      "8轮，训练Loss: 7.43, 校验Loss: 7.38\n",
      "9轮，训练Loss: 7.38, 校验Loss: 7.34\n",
      "10轮，训练Loss: 7.34, 校验Loss: 7.32\n",
      "11轮，训练Loss: 7.30, 校验Loss: 7.29\n",
      "12轮，训练Loss: 7.27, 校验Loss: 7.27\n",
      "13轮，训练Loss: 7.24, 校验Loss: 7.25\n",
      "14轮，训练Loss: 7.21, 校验Loss: 7.23\n",
      "15轮，训练Loss: 7.19, 校验Loss: 7.22\n",
      "16轮，训练Loss: 7.16, 校验Loss: 7.20\n",
      "17轮，训练Loss: 7.14, 校验Loss: 7.19\n",
      "18轮，训练Loss: 7.12, 校验Loss: 7.18\n",
      "19轮，训练Loss: 7.10, 校验Loss: 7.17\n",
      "20轮，训练Loss: 7.09, 校验Loss: 7.17\n",
      "21轮，训练Loss: 7.07, 校验Loss: 7.16\n",
      "22轮，训练Loss: 7.06, 校验Loss: 7.15\n",
      "23轮，训练Loss: 7.04, 校验Loss: 7.15\n",
      "24轮，训练Loss: 7.03, 校验Loss: 7.14\n",
      "25轮，训练Loss: 7.02, 校验Loss: 7.14\n",
      "26轮，训练Loss: 7.01, 校验Loss: 7.14\n",
      "27轮，训练Loss: 7.00, 校验Loss: 7.13\n",
      "28轮，训练Loss: 6.99, 校验Loss: 7.13\n",
      "29轮，训练Loss: 6.98, 校验Loss: 7.13\n",
      "30轮，训练Loss: 6.98, 校验Loss: 7.13\n",
      "31轮，训练Loss: 6.97, 校验Loss: 7.13\n",
      "32轮，训练Loss: 6.96, 校验Loss: 7.12\n",
      "33轮，训练Loss: 6.95, 校验Loss: 7.12\n",
      "34轮，训练Loss: 6.95, 校验Loss: 7.12\n",
      "35轮，训练Loss: 6.94, 校验Loss: 7.12\n",
      "36轮，训练Loss: 6.94, 校验Loss: 7.12\n",
      "37轮，训练Loss: 6.93, 校验Loss: 7.12\n",
      "38轮，训练Loss: 6.93, 校验Loss: 7.12\n",
      "39轮，训练Loss: 6.92, 校验Loss: 7.12\n",
      "40轮，训练Loss: 6.92, 校验Loss: 7.12\n",
      "41轮，训练Loss: 6.91, 校验Loss: 7.12\n",
      "42轮，训练Loss: 6.91, 校验Loss: 7.12\n",
      "43轮，训练Loss: 6.91, 校验Loss: 7.12\n",
      "44轮，训练Loss: 6.90, 校验Loss: 7.12\n",
      "45轮，训练Loss: 6.90, 校验Loss: 7.12\n",
      "46轮，训练Loss: 6.89, 校验Loss: 7.12\n",
      "47轮，训练Loss: 6.89, 校验Loss: 7.12\n",
      "48轮，训练Loss: 6.89, 校验Loss: 7.12\n",
      "49轮，训练Loss: 6.89, 校验Loss: 7.12\n",
      "50轮，训练Loss: 6.88, 校验Loss: 7.12\n",
      "51轮，训练Loss: 6.88, 校验Loss: 7.12\n",
      "52轮，训练Loss: 6.88, 校验Loss: 7.12\n",
      "53轮，训练Loss: 6.87, 校验Loss: 7.13\n",
      "54轮，训练Loss: 6.87, 校验Loss: 7.13\n",
      "55轮，训练Loss: 6.87, 校验Loss: 7.13\n",
      "56轮，训练Loss: 6.87, 校验Loss: 7.13\n",
      "57轮，训练Loss: 6.87, 校验Loss: 7.13\n",
      "58轮，训练Loss: 6.86, 校验Loss: 7.13\n",
      "59轮，训练Loss: 6.86, 校验Loss: 7.13\n",
      "60轮，训练Loss: 6.86, 校验Loss: 7.13\n",
      "61轮，训练Loss: 6.86, 校验Loss: 7.13\n",
      "62轮，训练Loss: 6.86, 校验Loss: 7.13\n",
      "63轮，训练Loss: 6.85, 校验Loss: 7.13\n",
      "64轮，训练Loss: 6.85, 校验Loss: 7.13\n",
      "65轮，训练Loss: 6.85, 校验Loss: 7.13\n",
      "66轮，训练Loss: 6.85, 校验Loss: 7.13\n",
      "67轮，训练Loss: 6.85, 校验Loss: 7.13\n",
      "68轮，训练Loss: 6.85, 校验Loss: 7.13\n",
      "69轮，训练Loss: 6.84, 校验Loss: 7.13\n",
      "70轮，训练Loss: 6.84, 校验Loss: 7.13\n",
      "71轮，训练Loss: 6.84, 校验Loss: 7.13\n",
      "72轮，训练Loss: 6.84, 校验Loss: 7.13\n",
      "73轮，训练Loss: 6.84, 校验Loss: 7.13\n",
      "74轮，训练Loss: 6.84, 校验Loss: 7.14\n",
      "75轮，训练Loss: 6.84, 校验Loss: 7.14\n",
      "76轮，训练Loss: 6.83, 校验Loss: 7.14\n",
      "77轮，训练Loss: 6.83, 校验Loss: 7.14\n",
      "78轮，训练Loss: 6.83, 校验Loss: 7.14\n",
      "79轮，训练Loss: 6.83, 校验Loss: 7.14\n",
      "80轮，训练Loss: 6.83, 校验Loss: 7.14\n",
      "81轮，训练Loss: 6.83, 校验Loss: 7.14\n",
      "82轮，训练Loss: 6.83, 校验Loss: 7.14\n",
      "83轮，训练Loss: 6.83, 校验Loss: 7.14\n",
      "84轮，训练Loss: 6.82, 校验Loss: 7.14\n",
      "85轮，训练Loss: 6.82, 校验Loss: 7.14\n",
      "86轮，训练Loss: 6.82, 校验Loss: 7.14\n",
      "87轮，训练Loss: 6.82, 校验Loss: 7.14\n",
      "88轮，训练Loss: 6.82, 校验Loss: 7.14\n",
      "89轮，训练Loss: 6.82, 校验Loss: 7.14\n",
      "90轮，训练Loss: 6.82, 校验Loss: 7.14\n",
      "91轮，训练Loss: 6.82, 校验Loss: 7.14\n",
      "92轮，训练Loss: 6.82, 校验Loss: 7.14\n",
      "93轮，训练Loss: 6.81, 校验Loss: 7.14\n",
      "94轮，训练Loss: 6.81, 校验Loss: 7.14\n",
      "95轮，训练Loss: 6.81, 校验Loss: 7.14\n",
      "96轮，训练Loss: 6.81, 校验Loss: 7.15\n",
      "97轮，训练Loss: 6.81, 校验Loss: 7.15\n",
      "98轮，训练Loss: 6.81, 校验Loss: 7.15\n",
      "99轮，训练Loss: 6.81, 校验Loss: 7.15\n"
     ]
    }
   ],
   "source": [
    "#开始训练500次，每次对所有的数据都做循环\n",
    "results = []\n",
    "for epoch in range(num_epoch):\n",
    "    train_loss = []\n",
    "    for data in train_data:\n",
    "        x = Variable(torch.FloatTensor(data[0])).unsqueeze(0)\n",
    "        y = Variable(torch.FloatTensor(data[1])).unsqueeze(0)\n",
    "        output = model(x)\n",
    "        optimizer.zero_grad()\n",
    "        loss = criterion(output, y)\n",
    "        train_loss.append(loss.data.numpy()[0])\n",
    "        loss.backward()\n",
    "        optimizer.step()\n",
    "        \n",
    "    valid_loss = []\n",
    "    for data in valid_data:\n",
    "        x = Variable(torch.FloatTensor(data[0])).unsqueeze(0)\n",
    "        y = Variable(torch.FloatTensor(data[1])).unsqueeze(0)\n",
    "        output = model(x)\n",
    "        loss = criterion(output, y)\n",
    "        valid_loss.append(loss.data.numpy()[0])\n",
    "    results.append([np.mean(train_loss), np.mean(valid_loss)])\n",
    "    print('{}轮，训练Loss: {:.2f}, 校验Loss: {:.2f}'.format(epoch, np.mean(train_loss), np.mean(valid_loss)))\n"
   ]
  },
  {
   "cell_type": "code",
   "execution_count": 11,
   "metadata": {
    "collapsed": false
   },
   "outputs": [
    {
     "data": {
      "text/plain": [
       "<matplotlib.legend.Legend at 0x185e208d0>"
      ]
     },
     "execution_count": 11,
     "metadata": {},
     "output_type": "execute_result"
    },
    {
     "data": {
      "image/png": "[encoded data removed]",
      "text/plain": [
       "<matplotlib.figure.Figure at 0x183563ac8>"
      ]
     },
     "metadata": {},
     "output_type": "display_data"
    }
   ],
   "source": [
    "a = [i[0] for i in results]\n",
    "b = [i[1] for i in results]\n",
    "plt.plot(a, 'o', label = 'Training Loss')\n",
    "plt.plot(b, 's', label = 'Validation Loss')\n",
    "plt.xlabel('Epoch')\n",
    "plt.ylabel('Loss Function')\n",
    "plt.legend()"
   ]
  },
  {
   "cell_type": "code",
   "execution_count": 16,
   "metadata": {
    "collapsed": false
   },
   "outputs": [
    {
     "name": "stdout",
     "output_type": "stream",
     "text": [
      "精确匹配率：0.08\n",
      "一字匹配率：0.18\n"
     ]
    }
   ],
   "source": [
    "exact_same = 0\n",
    "one_same = 0\n",
    "results = []\n",
    "for i, data in enumerate(test_data):\n",
    "    x = Variable(torch.FloatTensor(data[0])).unsqueeze(0)\n",
    "    output = model(x)\n",
    "    output = output.squeeze().data.numpy()\n",
    "    most_similar = word_vectors.similar_by_vector(output, 1)\n",
    "    results.append([original_words[i][1], most_similar[0][0]])\n",
    "    if original_words[i][1] == most_similar[0][0]:\n",
    "        exact_same += 1\n",
    "    if list(set(list(original_words[i][1])) & set(list(most_similar[0][0]))) != []:\n",
    "        one_same += 1\n",
    "print('精确匹配率：{:.2f}'.format(1.0 * exact_same / len(test_data)))\n",
    "print('一字匹配率：{:.2f}'.format(1.0 * one_same / len(test_data)))"
   ]
  },
  {
   "cell_type": "code",
   "execution_count": 17,
   "metadata": {
    "collapsed": false
   },
   "outputs": [
    {
     "name": "stdout",
     "output_type": "stream",
     "text": [
      "[['管理员', '埋'], ['安排', '需要'], ['树', '苔藓'], ['肋骨', '用力'], ['那些', '所以'], ['约', '表示同情'], ['疣', '爪子'], ['你', '啊'], ['设施', '系统'], ['测深', '不屑'], ['畸形', '毛发'], ['865', '10'], ['操作', '系统'], ['调整', '减少'], ['生病', '生病'], ['子', '分布'], ['针', '缝'], ['丝袜', '丝袜'], ['瞬间', '屏蔽'], ['信用', '支付'], ['证明', '但是'], ['申请', '相应'], ['少', '一般'], ['退款', '返还'], ['水平', '数值'], ['局限', '拥挤'], ['窒息', '颤抖'], ['开关', '部件'], ['实', '可能'], ['应该', '真的'], ['鼓掌', '欢呼'], ['天井', '窗台'], ['钟', '声'], ['接缝', '连接处'], ['政府', '政府'], ['我们', '支持'], ['评论', '回答'], ['补救', '失效'], ['电视', '音箱'], ['列', '基座'], ['你好', '穿衣服'], ['争论', '否定'], ['脚蹼', '头'], ['进化', '路径'], ['引导', '科学'], ['真诚', '真诚地'], ['管理', '明确'], ['总', '总计'], ['瘦', '裙子'], ['顺口', '问'], ['作为', '也'], ['斗争', '堕落'], ['匈牙利', '俄国'], ['关闭', '关闭'], ['繁荣', '蓬勃发展'], ['打', '撞'], ['铬', '托盘'], ['挑选', '指责'], ['拴', '爬'], ['谈', '我'], ['抗议', '指责'], ['精神', '渴望'], ['手工', '怪异'], ['重要', '能够'], ['混合', '鲜亮'], ['化妆', '款式'], ['左', '拉扯'], ['包', '模块'], ['巨石', '土堆'], ['瓦解', '腐蚀'], ['打哈欠', '麻木'], ['脑', '身体'], ['原谅', '容忍'], ['洗牌', '用力'], ['打听', '回答'], ['破坏', '毁灭'], ['被', '因为'], ['凹凸不平', '因此'], ['干', '干燥'], ['要求', '要求'], ['胚胎', '胚胎'], ['盾牌', '盾牌'], ['暴跌', '滑落'], ['矿山', '埋'], ['矛', '小鬼'], ['凯撒', '撒旦'], ['锁', '挡板'], ['海蒂', '丽萨'], ['摇', '使劲'], ['进行', '解决问题'], ['声音', '呼唤'], ['桩', '木板'], ['室', '吧台'], ['烦', '问'], ['规模', '结构'], ['自己', '你'], ['交错', '绕圈'], ['花式', '款式'], ['添加', '肯定'], ['妈妈', '我'], ['忙', '繁忙'], ['恩典', '润泽'], ['进展', '突飞猛进'], ['电话', '请求'], ['当地人', '土著'], ['扮演着', '天才'], ['年龄', '成年'], ['别人', '因为'], ['称', '史莱姆'], ['辊', '拧'], ['低声', '听'], ['小鸡', '兔子'], ['可能', '可能'], ['耳', '耳朵'], ['常规', '部件'], ['霍格尔', '巴尔'], ['策略', '弱点'], ['生产', '有利于'], ['兔', '蜥蜴'], ['全面', '喊'], ['武器', '武器'], ['翻领', '黑色'], ['不', '因为'], ['提出', '损失'], ['无形', '物体'], ['商业', '业务'], ['你好', '点点头'], ['游泳', '玩耍'], ['恶意', '侮辱'], ['变化', '因此'], ['什么', '里面'], ['音调', '柔和'], ['问', '告诉他'], ['其他', '比如'], ['唐纳', '害怕'], ['运气', '想'], ['洗发水', '食物'], ['松开', '用力'], ['指尖', '手指'], ['发现', '出没'], ['抱怨', '不耐烦'], ['招标', '吃完'], ['约', '10'], ['匈奴', '骂'], ['秃鹫', '张牙舞爪'], ['分手', '她'], ['纠察', '大门口'], ['天', '结束'], ['相比', '平均'], ['高兴', '高兴'], ['治愈', '食物'], ['泥', '木屑'], ['月', '10'], ['坡', '平地'], ['页', '索引'], ['玫瑰', '635'], ['位置', '站位'], ['合成', '方法'], ['定期', '常规'], ['侦探', '探员'], ['是', '试验'], ['假装', '惊恐'], ['舞蹈', '舞蹈'], ['配音', '怪兽'], ['局', '研究'], ['傻', '滑稽'], ['希望', '想'], ['双打', '超值'], ['向下', '向下'], ['通知', '通知'], ['打破', '掉'], ['流', '语音'], ['垃圾', '偷吃'], ['借口', '因为'], ['我', '接着'], ['龙', '梦幻'], ['禁止', '强迫'], ['钩', '拧'], ['应该', '亮片'], ['发现', '发现'], ['光滑', '密实'], ['灯', '灯光'], ['信号', '告警'], ['经验', '理解'], ['口', '舌头'], ['摇', '颤抖'], ['小', '小孔'], ['想', '想'], ['五', '20'], ['派', '豆子'], ['党', '组织起来'], ['看到', '看见'], ['采取', '需要'], ['吩咐', '守卫'], ['授予', '准许'], ['走', '坐下'], ['神秘', '鬼魂'], ['而', '上帝'], ['自己', '所以'], ['连接', '连接'], ['芝加哥', '布鲁克林'], ['饲料', '吃'], ['巴顿', '巴尔'], ['吟诵', '低声'], ['百', '一百'], ['窃听', '呼叫'], ['后悔', '怀疑'], ['窗格', '挡板'], ['危害', '可能'], ['困惑', '惊恐'], ['吠', '大叫'], ['检查', '检查'], ['二十', '五'], ['斑白', '皱褶'], ['凡人', '毁灭'], ['草地', '河畔'], ['缓解', '顺畅'], ['你', '我'], ['针织', '花纹'], ['解释', '解释'], ['降落', '爬'], ['绅士', '客人'], ['美丽', '美丽'], ['戈特', '我'], ['忘记', '真的'], ['湾', '海滩'], ['丢弃', '填充'], ['字符串', '滚轮'], ['四', '只用'], ['达到', '至'], ['放松', '放松'], ['啦啦队', '穿着'], ['吹', '飞溅'], ['不足', '不合理'], ['随时', '想要'], ['男孩', '她'], ['复兴', '艺术'], ['你', '你'], ['咧嘴一笑', '笑'], ['翻找', '翻动'], ['继续', '促使'], ['合众', '军火'], ['迷雾', '凝固'], ['容易', '需要'], ['直', '拧'], ['计数器', '攻击'], ['著名', '古堡'], ['其实', '所以'], ['交叉', '越过'], ['雪茄', '红酒']]\n"
     ]
    }
   ],
   "source": [
    "print(results)"
   ]
  },
  {
   "cell_type": "code",
   "execution_count": 22,
   "metadata": {
    "collapsed": false
   },
   "outputs": [
    {
     "name": "stdout",
     "output_type": "stream",
     "text": [
      "['body', '毛发']\n"
     ]
    }
   ],
   "source": [
    "def translate(eng_word):\n",
    "    \n",
    "    eng_vec = word_vectors_en[eng_word]\n",
    "    eng_vec = Variable(torch.FloatTensor(eng_vec)).unsqueeze(0)\n",
    "    eng = model(eng_vec)\n",
    "    eng = eng.squeeze().data.numpy()\n",
    "    most_similar = word_vectors.similar_by_vector(eng, 1)\n",
    "    result = [eng_word, most_similar[0][0]]\n",
    "    return result\n",
    "\n",
    "print(translate('body'))\n",
    "    "
   ]
  },
  {
   "cell_type": "code",
   "execution_count": 23,
   "metadata": {
    "collapsed": false
   },
   "outputs": [
    {
     "data": {
      "text/plain": [
       "['long', '直立']"
      ]
     },
     "execution_count": 23,
     "metadata": {},
     "output_type": "execute_result"
    }
   ],
   "source": [
    "translate('long')"
   ]
  },
  {
   "cell_type": "code",
   "execution_count": 24,
   "metadata": {
    "collapsed": false
   },
   "outputs": [
    {
     "data": {
      "text/plain": [
       "['number', '平均']"
      ]
     },
     "execution_count": 24,
     "metadata": {},
     "output_type": "execute_result"
    }
   ],
   "source": [
    "translate('number')"
   ]
  },
  {
   "cell_type": "code",
   "execution_count": null,
   "metadata": {
    "collapsed": true
   },
   "outputs": [],
   "source": []
  }
 ],
 "metadata": {
  "kernelspec": {
   "display_name": "Python 3",
   "language": "python",
   "name": "python3"
  },
  "language_info": {
   "codemirror_mode": {
    "name": "ipython",
    "version": 3
   },
   "file_extension": ".py",
   "mimetype": "text/x-python",
   "name": "python",
   "nbconvert_exporter": "python",
   "pygments_lexer": "ipython3",
   "version": "3.6.0"
  }
 },
 "nbformat": 4,
 "nbformat_minor": 2
}
